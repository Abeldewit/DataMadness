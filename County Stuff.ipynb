{
 "cells": [
  {
   "cell_type": "code",
   "execution_count": null,
   "metadata": {},
   "outputs": [],
   "source": [
    "import pandas as pd\n",
    "import numpy as np\n",
    "import matplotlib.pyplot as plt\n",
    "import seaborn as sns\n",
    "\n",
    "df = pd.read_csv(\"data/infectious-diseases-by-county-year-and-sex.csv\")"
   ]
  },
  {
   "cell_type": "code",
   "execution_count": null,
   "metadata": {},
   "outputs": [],
   "source": [
    "df.head()"
   ]
  },
  {
   "cell_type": "code",
   "execution_count": null,
   "metadata": {},
   "outputs": [],
   "source": [
    "diseases = df['Disease'].unique()\n",
    "\n",
    "d_list = []\n",
    "for d in diseases:\n",
    "    tmp_df = df[df['Disease'] == d]\n",
    "    total_tmp_df = tmp_df[tmp_df['Sex'] == 'TOTAL']\n",
    "    d_list.append(total_tmp_df)\n",
    "\n",
    "    total_sum = []\n",
    "    for c in total_tmp_df['Year'].unique():\n",
    "        #print(c, total_tmp_df[total_tmp_df['Year'] == c]['Cases'].sum())\n",
    "        total_sum.append((c, total_tmp_df[total_tmp_df['Year'] == c]['Cases'].sum()))\n",
    "    total_sum = pd.DataFrame(total_sum, columns=['Year', 'Cases'])\n",
    "    \n",
    "    fig, ax = plt.subplots(figsize=(25,14))\n",
    "    total_sum.plot(x='Year', y='Cases', ax=ax)\n",
    "    plt.title(d)\n",
    "    plt.savefig('images/'+ d.replace('.', '_'))\n",
    "    plt.close()"
   ]
  },
  {
   "cell_type": "code",
   "execution_count": null,
   "metadata": {},
   "outputs": [],
   "source": [
    "d_list[0]"
   ]
  },
  {
   "cell_type": "code",
   "execution_count": null,
   "metadata": {},
   "outputs": [],
   "source": [
    "county_info = pd.read_csv(\"data/county_info.csv\", sep=';')\n",
    "\n",
    "county_info['Per capita income'] = county_info['Per capita income'].apply(lambda x: x.replace('$', ''))\n",
    "county_info['Median household income'] = county_info['Median household income'].apply(lambda x: x.replace('$', ''))\n",
    "county_info['Median family income'] = county_info['Median family income'].apply(lambda x: x.replace('$', ''))\n",
    "\n",
    "county_info['Per capita income'] = county_info['Per capita income'].astype(int)\n",
    "county_info['Median household income'] = county_info['Median household income'].astype(int)\n",
    "county_info['Median family income'] = county_info['Median family income'].astype(int)\n",
    "\n",
    "county_info.head()"
   ]
  },
  {
   "cell_type": "code",
   "execution_count": null,
   "metadata": {},
   "outputs": [],
   "source": [
    "fig, ax = plt.subplots(figsize=(12,8))\n",
    "county_info.plot(kind='bar', x='County', y='Per capita income', ax=ax)\n",
    "plt.show()\n",
    "county_info.plot(kind='bar', x='County', y='Median household income', ax=ax)\n",
    "county_info.plot(kind='bar', x='County', y='Median family income', ax=ax)\n"
   ]
  },
  {
   "cell_type": "code",
   "execution_count": null,
   "metadata": {},
   "outputs": [],
   "source": [
    "## dikke rik"
   ]
  }
 ],
 "metadata": {
  "kernelspec": {
   "display_name": "Python 3",
   "language": "python",
   "name": "python3"
  },
  "language_info": {
   "codemirror_mode": {
    "name": "ipython",
    "version": 3
   },
   "file_extension": ".py",
   "mimetype": "text/x-python",
   "name": "python",
   "nbconvert_exporter": "python",
   "pygments_lexer": "ipython3",
   "version": "3.7.4"
  }
 },
 "nbformat": 4,
 "nbformat_minor": 4
}
