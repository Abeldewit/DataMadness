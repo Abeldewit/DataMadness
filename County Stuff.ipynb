{
 "cells": [
  {
   "cell_type": "code",
   "execution_count": 1,
   "metadata": {},
   "outputs": [],
   "source": [
    "import pandas as pd\n",
    "import numpy as np\n",
    "import matplotlib.pyplot as plt\n",
    "import seaborn as sns\n",
    "\n",
    "df = pd.read_csv(\"data/infectious-diseases-by-county-year-and-sex.csv\")"
   ]
  },
  {
   "cell_type": "code",
   "execution_count": null,
   "metadata": {},
   "outputs": [],
   "source": [
    "df.head()\n",
    "df.dtypes\n",
    "\n",
    "#trying to replace - with 0 and x* with x\n",
    "for index, row in df.iterrows():\n",
    "    if row['Rate'] == '-':\n",
    "        df.loc[index, 'Rate'] = 0   \n",
    "    if '*' in row['Rate']:\n",
    "#         print('*')\n",
    "        spl = row['Rate'].replace('*', '')\n",
    "#         print(spl)\n",
    "        df.loc[index, 'Rate'] = spl\n",
    "#     print(df.loc[index, 'Rate'])\n",
    "\n",
    "df['Rate'].astype(float)\n",
    "\n",
    "print(df['Rate'])"
   ]
  },
  {
   "cell_type": "code",
   "execution_count": null,
   "metadata": {},
   "outputs": [],
   "source": [
    "diseases = df['Disease'].unique()\n",
    "\n",
    "# d_list = []\n",
    "# for d in diseases:\n",
    "#     tmp_df = df[df['Disease'] == d]\n",
    "#     total_tmp_df = tmp_df[tmp_df['Sex'] == 'TOTAL']\n",
    "#     d_list.append(total_tmp_df)\n",
    "\n",
    "#     total_sum = []\n",
    "#     for c in total_tmp_df['Year'].unique():\n",
    "#         #print(c, total_tmp_df[total_tmp_df['Year'] == c]['Cases'].sum())\n",
    "#         total_sum.append((c, total_tmp_df[total_tmp_df['Year'] == c]['Cases'].sum()))\n",
    "#     total_sum = pd.DataFrame(total_sum, columns=['Year', 'Cases'])\n",
    "    \n",
    "#     fig, ax = plt.subplots(figsize=(25,14))\n",
    "#     total_sum.plot(x='Year', y='Cases', ax=ax)\n",
    "#     plt.title(d)\n",
    "#     plt.savefig('images/'+ d.replace('.', '_'))\n",
    "# #     plt.close()\n",
    "\n"
   ]
  },
  {
   "cell_type": "code",
   "execution_count": null,
   "metadata": {},
   "outputs": [],
   "source": [
    "counties = df['County'].unique()\n",
    "c_list = []\n",
    "\n",
    "# for c in counties:\n",
    "#     tmp_df = df[df['County'] == c]\n",
    "#     total_tmp_df = tmp_df[tmp_df['Sex'] == 'TOTAL']\n",
    "#     c_list.append(total_tmp_df)\n",
    "\n",
    "#     total_sum = []\n",
    "#     for y in total_tmp_df['Year'].unique():\n",
    "#         #print(c, total_tmp_df[total_tmp_df['Year'] == c]['Cases'].sum())\n",
    "#         total_sum.append((y, total_tmp_df[total_tmp_df['Year'] == y]['Cases'].sum()))\n",
    "#     total_sum = pd.DataFrame(total_sum, columns=['Year', 'Cases'])\n",
    "    \n",
    "#     fig, ax = plt.subplots(figsize=(25,14))\n",
    "#     total_sum.plot(x='Year', y='Cases', ax=ax)\n",
    "#     plt.title(c)\n",
    "# #     plt.savefig('images/'+ d.replace('.', '_'))"
   ]
  },
  {
   "cell_type": "code",
   "execution_count": null,
   "metadata": {},
   "outputs": [],
   "source": [
    "cd_list = []\n",
    "sumlist = []\n",
    "# for c in counties:\n",
    "    \n",
    "#     for d in diseases:\n",
    "#         tmp = df[df['County'] == c]\n",
    "#         tmp_df = tmp[tmp['Disease'] == d]\n",
    "#         total_tmp_df = tmp_df[tmp_df['Sex'] == 'TOTAL']\n",
    "#         cd_list.append(total_tmp_df)\n",
    "\n",
    "#         total_sum = []\n",
    "#         for y in total_tmp_df['Year'].unique():\n",
    "#             #print(c, total_tmp_df[total_tmp_df['Year'] == c]['Cases'].sum())\n",
    "#             total_sum.append((y, total_tmp_df[total_tmp_df['Year'] == y]['Cases'].sum()))\n",
    "#         total_sum = pd.DataFrame(total_sum, columns=['Year', 'Cases'])\n",
    "\n",
    "#         fig, ax = plt.subplots(figsize=(25,14))\n",
    "#         total_sum.plot(x='Year', y='Cases', ax=ax, label=d)\n",
    "#         plt.title(c)\n",
    "#         plt.show()\n",
    "#         #     plt.savefig('images/'+ d.replace('.', '_'))"
   ]
  },
  {
   "cell_type": "code",
   "execution_count": null,
   "metadata": {
    "scrolled": false
   },
   "outputs": [],
   "source": [
    "cd_list = []\n",
    "sumlist = []\n",
    "# for c in counties:\n",
    "    \n",
    "#     for d in diseases:\n",
    "#         tmp = df[df['County'] == c]\n",
    "#         tmp_df = tmp[tmp['Disease'] == d]\n",
    "#         total_tmp_df = tmp_df[tmp_df['Sex'] == 'TOTAL']\n",
    "#         cd_list.append(total_tmp_df)\n",
    "\n",
    "#         total_sum = []\n",
    "#         for y in total_tmp_df['Year'].unique():\n",
    "#             #print(c, total_tmp_df[total_tmp_df['Year'] == c]['Cases'].sum())\n",
    "#             total_sum.append((y, total_tmp_df[total_tmp_df['Year'] == y]['Cases'].sum()))\n",
    "#         total_sum = pd.DataFrame(total_sum, columns=['Year', 'Cases'])\n",
    "#         l = [total_sum, d]\n",
    "        \n",
    "#         sumlist.append(l)\n",
    "#     fig, ax = plt.subplots(figsize=(25,14))\n",
    "    \n",
    "#     for sum in sumlist:\n",
    "#         label = sum[1]\n",
    "#         sum[0].plot(x=\"Year\", y=\"Cases\", ax=ax, label=label)\n",
    "\n",
    "#     #         total_sum.plot(x='Year', y='Cases', ax=ax, label=d)\n",
    "#     plt.title(c)\n",
    "#     plt.show()\n",
    "#         #     plt.savefig('images/'+ d.replace('.', '_'))"
   ]
  },
  {
   "cell_type": "code",
   "execution_count": null,
   "metadata": {},
   "outputs": [],
   "source": [
    "for c in counties: \n",
    "    for d in diseases:\n",
    "        tmp = df[df['County'] == c]\n",
    "        tmp_df = tmp[tmp['Disease'] == d]\n",
    "        total_tmp_df = tmp_df[tmp_df['Sex'] == 'TOTAL']\n",
    "        cd_list.append(total_tmp_df)\n",
    "\n",
    "        total_sum = []\n",
    "        for y in total_tmp_df['Year'].unique():\n",
    "            #print(c, total_tmp_df[total_tmp_df['Year'] == c]['Cases'].sum())\n",
    "            total_sum.append((y, total_tmp_df[total_tmp_df['Year'] == y]['Rate'].sum()))\n",
    "        total_sum = pd.DataFrame(total_sum, columns=['Year', 'Rate'])\n",
    "        l = [total_sum, d]\n",
    "        \n",
    "        sumlist.append(l)\n",
    "    fig, ax = plt.subplots(figsize=(25,14))\n",
    "    \n",
    "    for sum in sumlist:\n",
    "        label = sum[1]\n",
    "        sum[0].plot(x=\"Year\", y=\"Rate\", ax=ax, label=label)\n",
    "\n",
    "    #         total_sum.plot(x='Year', y='Cases', ax=ax, label=d)\n",
    "    plt.title(c)\n",
    "    plt.show()\n",
    "        #     plt.savefig('images/'+ d.replace('.', '_'))"
   ]
  },
  {
   "cell_type": "code",
   "execution_count": null,
   "metadata": {},
   "outputs": [],
   "source": [
    "d_list[0]"
   ]
  },
  {
   "cell_type": "code",
   "execution_count": null,
   "metadata": {},
   "outputs": [],
   "source": [
    "county_info = pd.read_csv(\"data/county_info.csv\", sep=';')\n",
    "\n",
    "county_info['Per capita income'] = county_info['Per capita income'].apply(lambda x: x.replace('$', ''))\n",
    "county_info['Median household income'] = county_info['Median household income'].apply(lambda x: x.replace('$', ''))\n",
    "county_info['Median family income'] = county_info['Median family income'].apply(lambda x: x.replace('$', ''))\n",
    "\n",
    "county_info['Per capita income'] = county_info['Per capita income'].astype(int)\n",
    "county_info['Median household income'] = county_info['Median household income'].astype(int)\n",
    "county_info['Median family income'] = county_info['Median family income'].astype(int)\n",
    "\n",
    "county_info.head()"
   ]
  },
  {
   "cell_type": "code",
   "execution_count": null,
   "metadata": {},
   "outputs": [],
   "source": [
    "half_size = int(len(county_info)/2)\n",
    "width = 0.8\n",
    "\n",
    "fig, ax = plt.subplots(figsize=(18,8))\n",
    "county_info.iloc[:half_size].plot(kind='bar', \n",
    "                 x='County', \n",
    "                 y=['Per capita income','Median household income','Median family income'],\n",
    "                 ax=ax, \n",
    "                 width=width)\n",
    "plt.show()\n",
    "\n",
    "fig2, ax2 = plt.subplots(figsize=(18,8))\n",
    "county_info.iloc[half_size:].plot(kind='bar', \n",
    "                 x='County', \n",
    "                 y=['Per capita income','Median household income','Median family income'],\n",
    "                 ax=ax2,\n",
    "                 width=width)\n",
    "plt.show()\n"
   ]
  },
  {
   "cell_type": "code",
   "execution_count": null,
   "metadata": {},
   "outputs": [],
   "source": []
  },
  {
   "cell_type": "code",
   "execution_count": null,
   "metadata": {},
   "outputs": [],
   "source": []
  }
 ],
 "metadata": {
  "kernelspec": {
   "display_name": "Python 3",
   "language": "python",
   "name": "python3"
  },
  "language_info": {
   "codemirror_mode": {
    "name": "ipython",
    "version": 3
   },
   "file_extension": ".py",
   "mimetype": "text/x-python",
   "name": "python",
   "nbconvert_exporter": "python",
   "pygments_lexer": "ipython3",
   "version": "3.7.3"
  }
 },
 "nbformat": 4,
 "nbformat_minor": 4
}
