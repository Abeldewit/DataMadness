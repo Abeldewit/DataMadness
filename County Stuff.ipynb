{
 "cells": [
  {
   "cell_type": "code",
   "execution_count": null,
   "metadata": {},
   "outputs": [],
   "source": [
    "import pandas as pd\n",
    "import numpy as np\n",
    "import matplotlib.pyplot as plt\n",
    "import seaborn as sns\n",
    "\n",
    "df = pd.read_csv(\"data/infectious-diseases-by-county-year-and-sex.csv\")"
   ]
  },
  {
   "cell_type": "code",
   "execution_count": null,
   "metadata": {},
   "outputs": [],
   "source": [
    "df.head()"
   ]
  },
  {
   "cell_type": "code",
   "execution_count": null,
   "metadata": {},
   "outputs": [],
   "source": [
    "diseases = df['Disease'].unique()\n",
    "\n",
    "d_list = []\n",
    "for d in diseases:\n",
    "    tmp_df = df[df['Disease'] == d]\n",
    "    total_tmp_df = tmp_df[tmp_df['Sex'] == 'TOTAL']\n",
    "    d_list.append(total_tmp_df)\n",
    "\n",
    "    total_sum = []\n",
    "    for c in total_tmp_df['Year'].unique():\n",
    "        #print(c, total_tmp_df[total_tmp_df['Year'] == c]['Cases'].sum())\n",
    "        total_sum.append((c, total_tmp_df[total_tmp_df['Year'] == c]['Cases'].sum()))\n",
    "    total_sum = pd.DataFrame(total_sum, columns=['Year', 'Cases'])\n",
    "    \n",
    "    fig, ax = plt.subplots(figsize=(25,14))\n",
    "    total_sum.plot(x='Year', y='Cases', ax=ax)\n",
    "    plt.title(d)\n",
    "    plt.savefig('images/'+ d.replace('.', '_'))\n",
    "    plt.close()"
   ]
  },
  {
   "cell_type": "code",
   "execution_count": null,
   "metadata": {},
   "outputs": [],
   "source": [
    "d_list[0]"
   ]
  },
  {
   "cell_type": "code",
   "execution_count": null,
   "metadata": {},
   "outputs": [],
   "source": [
    "county_info = pd.read_csv(\"data/county_info.csv\", sep=';')\n",
    "\n",
    "county_info['Per capita income'] = county_info['Per capita income'].apply(lambda x: x.replace('$', ''))\n",
    "county_info['Median household income'] = county_info['Median household income'].apply(lambda x: x.replace('$', ''))\n",
    "county_info['Median family income'] = county_info['Median family income'].apply(lambda x: x.replace('$', ''))\n",
    "\n",
    "county_info['Per capita income'] = county_info['Per capita income'].astype(int)\n",
    "county_info['Median household income'] = county_info['Median household income'].astype(int)\n",
    "county_info['Median family income'] = county_info['Median family income'].astype(int)\n",
    "\n",
    "county_info.head()"
   ]
  },
  {
   "cell_type": "code",
   "execution_count": null,
   "metadata": {},
   "outputs": [],
   "source": [
    "half_size = int(len(county_info)/2)\n",
    "width = 0.8\n",
    "\n",
    "fig, ax = plt.subplots(figsize=(18,8))\n",
    "county_info.iloc[:half_size].plot(kind='bar', \n",
    "                 x='County', \n",
    "                 y=['Per capita income','Median household income','Median family income'],\n",
    "                 ax=ax, \n",
    "                 width=width)\n",
    "plt.show()\n",
    "\n",
    "fig2, ax2 = plt.subplots(figsize=(18,8))\n",
    "county_info.iloc[half_size:].plot(kind='bar', \n",
    "                 x='County', \n",
    "                 y=['Per capita income','Median household income','Median family income'],\n",
    "                 ax=ax2,\n",
    "                 width=width)\n",
    "plt.show()\n"
   ]
  },
  {
   "cell_type": "code",
   "execution_count": null,
   "metadata": {},
   "outputs": [],
   "source": [
    "\n",
    "\n",
    "from statsmodels.tsa.seasonal import seasonal_decompose\n",
    "import pandas as pd\n",
    "import numpy as np\n",
    "import seaborn as sns\n",
    "import matplotlib.pyplot as plt\n",
    "%matplotlib inline\n",
    "sns.set(style=\"ticks\")\n",
    "import warnings\n",
    "warnings.filterwarnings('ignore')\n",
    "\n",
    "decompfreq = 12  # 12 months seasonality\n",
    "model = 'additive'\n",
    "\n",
    "for d in d_list:\n",
    "    decomposition = seasonal_decompose(\n",
    "        d.set_index(\"Year\").value.interpolate(\"linear\"),\n",
    "        freq=decompfreq,\n",
    "        model=model)\n",
    "    trend = decomposition.trend\n",
    "    seasonal = decomposition.seasonal \n",
    "    residual = decomposition.resid \n",
    "\n",
    "    fig, ax = plt.subplots(figsize=(18,6))\n",
    "    d.plot(x=\"Year\", y=\"Cases\", ax=ax, label=\"observed\", c='lightgrey')\n",
    "    trend.plot(ax=ax, label=\"trend\")\n",
    "    plt.legend(loc='upper left')\n"
   ]
  },
  {
   "cell_type": "code",
   "execution_count": null,
   "metadata": {},
   "outputs": [],
   "source": []
  }
 ],
 "metadata": {
  "kernelspec": {
   "display_name": "Python 3",
   "language": "python",
   "name": "python3"
  },
  "language_info": {
   "codemirror_mode": {
    "name": "ipython",
    "version": 3
   },
   "file_extension": ".py",
   "mimetype": "text/x-python",
   "name": "python",
   "nbconvert_exporter": "python",
   "pygments_lexer": "ipython3",
   "version": "3.7.3"
  }
 },
 "nbformat": 4,
 "nbformat_minor": 4
}
